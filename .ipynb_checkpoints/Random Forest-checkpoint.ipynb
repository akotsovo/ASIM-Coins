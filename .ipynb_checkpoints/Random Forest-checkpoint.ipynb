{
 "cells": [
  {
   "cell_type": "markdown",
   "id": "37cea94d",
   "metadata": {},
   "source": [
    "# Ranfom Forest"
   ]
  },
  {
   "cell_type": "code",
   "execution_count": 2,
   "id": "44f81dbb",
   "metadata": {},
   "outputs": [],
   "source": [
    "from sklearn.ensemble import RandomForestClassifier\n",
    "from sklearn.datasets import make_classification\n",
    "import xgboost as xgb"
   ]
  },
  {
   "cell_type": "code",
   "execution_count": null,
   "id": "5b876068",
   "metadata": {},
   "outputs": [],
   "source": [
    "#Data import"
   ]
  },
  {
   "cell_type": "markdown",
   "id": "026d0f9d",
   "metadata": {},
   "source": [
    "## Standard Random Forest"
   ]
  },
  {
   "cell_type": "code",
   "execution_count": null,
   "id": "21ae352b",
   "metadata": {},
   "outputs": [],
   "source": [
    "\n",
    "X, y = make_classification(n_samples=1000, n_features=4,\n",
    "                         n_informative=2, n_redundant=0,\n",
    "                         random_state=0, shuffle=False)\n",
    "classification = RandomForestClassifier(max_depth=2, random_state=0)\n",
    "classification.fit(X, y)\n",
    "RandomForestClassifier(...)\n",
    ">>> print(clf.predict([[0, 0, 0, 0]]))"
   ]
  },
  {
   "cell_type": "markdown",
   "id": "0cb365bc",
   "metadata": {},
   "source": [
    "## XGBoost"
   ]
  },
  {
   "cell_type": "code",
   "execution_count": null,
   "id": "a2f2deca",
   "metadata": {},
   "outputs": [],
   "source": []
  }
 ],
 "metadata": {
  "kernelspec": {
   "display_name": "Python 3 (ipykernel)",
   "language": "python",
   "name": "python3"
  },
  "language_info": {
   "codemirror_mode": {
    "name": "ipython",
    "version": 3
   },
   "file_extension": ".py",
   "mimetype": "text/x-python",
   "name": "python",
   "nbconvert_exporter": "python",
   "pygments_lexer": "ipython3",
   "version": "3.8.8"
  }
 },
 "nbformat": 4,
 "nbformat_minor": 5
}
