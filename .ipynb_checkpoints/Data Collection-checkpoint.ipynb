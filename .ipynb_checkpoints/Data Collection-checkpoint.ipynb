{
 "cells": [
  {
   "cell_type": "markdown",
   "id": "2bffb08b",
   "metadata": {},
   "source": [
    "<h1 align=\"center\"> Predicting the Next Crypto Coin/Token Star Using Machine Learning </h1>\n",
    "\n",
    "<h2 align=\"center\"> Advanced Seminar Information Management </h2>\n",
    "\n",
    "<h3 align=\"center\"> Supervisor Prof. Dr. Schoder </h3>\n",
    "  \n",
    "<h4 align=\"center\"> Pascal Grewe & Andrej Kotsovolos </h4>\n"
   ]
  },
  {
   "cell_type": "markdown",
   "id": "a426faaa",
   "metadata": {},
   "source": [
    "  "
   ]
  },
  {
   "cell_type": "markdown",
   "id": "d1304bb8",
   "metadata": {},
   "source": [
    "<h1>1. Data Collection <h1>"
   ]
  },
  {
   "cell_type": "code",
   "execution_count": 1,
   "id": "8daa494a",
   "metadata": {},
   "outputs": [],
   "source": [
    "# import free Python Coin Gecko API\n",
    "from pycoingecko import CoinGeckoAPI\n",
    "cg = CoinGeckoAPI()"
   ]
  },
  {
   "cell_type": "code",
   "execution_count": null,
   "id": "b76dae8d",
   "metadata": {},
   "outputs": [],
   "source": [
    "# We need to get historical data from a specific point in time for all coins we want to use until today\n",
    "# then we need to collect all new data for every next day so that the tool could be used in future\n",
    "\n",
    "# program it so that is easy to extend for other coins in the future"
   ]
  }
 ],
 "metadata": {
  "kernelspec": {
   "display_name": "Python 3 (ipykernel)",
   "language": "python",
   "name": "python3"
  },
  "language_info": {
   "codemirror_mode": {
    "name": "ipython",
    "version": 3
   },
   "file_extension": ".py",
   "mimetype": "text/x-python",
   "name": "python",
   "nbconvert_exporter": "python",
   "pygments_lexer": "ipython3",
   "version": "3.8.8"
  }
 },
 "nbformat": 4,
 "nbformat_minor": 5
}
