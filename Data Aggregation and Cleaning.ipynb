{
 "cells": [
  {
   "cell_type": "markdown",
   "id": "4da40c0d",
   "metadata": {},
   "source": [
    "# 2. Data Aggregation and Cleaning"
   ]
  },
  {
   "cell_type": "code",
   "execution_count": 1,
   "id": "267cf60b",
   "metadata": {},
   "outputs": [],
   "source": [
    "from pycoingecko import CoinGeckoAPI\n",
    "cg = CoinGeckoAPI()\n",
    "\n",
    "import pandas as pd\n",
    "import numpy as np\n",
    "from datetime import datetime, timedelta\n",
    "import matplotlib.pyplot as plt\n",
    "import time\n",
    "import san"
   ]
  },
  {
   "cell_type": "markdown",
   "id": "be77c4d2",
   "metadata": {},
   "source": [
    "## CoinGecko Data"
   ]
  },
  {
   "cell_type": "code",
   "execution_count": null,
   "id": "f1569e51",
   "metadata": {},
   "outputs": [],
   "source": [
    "pd.read_csv(file_name)"
   ]
  }
 ],
 "metadata": {
  "kernelspec": {
   "display_name": "Python 3 (ipykernel)",
   "language": "python",
   "name": "python3"
  },
  "language_info": {
   "codemirror_mode": {
    "name": "ipython",
    "version": 3
   },
   "file_extension": ".py",
   "mimetype": "text/x-python",
   "name": "python",
   "nbconvert_exporter": "python",
   "pygments_lexer": "ipython3",
   "version": "3.8.8"
  }
 },
 "nbformat": 4,
 "nbformat_minor": 5
}
