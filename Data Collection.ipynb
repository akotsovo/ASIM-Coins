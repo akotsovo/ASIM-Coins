{
 "cells": [
  {
   "cell_type": "markdown",
   "id": "2bffb08b",
   "metadata": {},
   "source": [
    "<h1 align=\"center\"> Predicting the Next Crypto Coin/Token Star Using Machine Learning </h1>\n",
    "\n",
    "<h2 align=\"center\"> Advanced Seminar Information Management </h2>\n",
    "\n",
    "<h3 align=\"center\"> Supervisor Prof. Dr. Schoder </h3>\n",
    "  \n",
    "<h4 align=\"center\"> Pascal Grewe & Andrej Kotsovolos </h4>\n"
   ]
  },
  {
   "cell_type": "markdown",
   "id": "a426faaa",
   "metadata": {},
   "source": [
    "  "
   ]
  },
  {
   "cell_type": "markdown",
   "id": "d1304bb8",
   "metadata": {},
   "source": [
    "<h1>1. Data Collection <h1>"
   ]
  },
  {
   "cell_type": "code",
   "execution_count": 1,
   "id": "8daa494a",
   "metadata": {},
   "outputs": [],
   "source": [
    "# import free Python Coin Gecko API\n",
    "from pycoingecko import CoinGeckoAPI\n",
    "cg = CoinGeckoAPI()\n",
    "\n",
    "import pandas as pd\n",
    "import numpy as np\n",
    "from datetime import datetime, timedelta"
   ]
  },
  {
   "cell_type": "code",
   "execution_count": 2,
   "id": "4bc480e9",
   "metadata": {},
   "outputs": [],
   "source": [
    "def add_date(year, month, day, coin):\n",
    "    size = int(coin.size/4)\n",
    "    date = datetime(year, month, day)\n",
    "    \n",
    "    for i in range(size):\n",
    "        coin.iloc[i,3] = date \n",
    "        date = date + timedelta(1)"
   ]
  },
  {
   "cell_type": "code",
   "execution_count": 5,
   "id": "4db9c0be",
   "metadata": {},
   "outputs": [],
   "source": [
    "# get coin data for specific coin from 01-01-2018 00:00:00 to 26-04-2022 00:00:00\n",
    "# timestamp has to be in UNIX format \n",
    "def get_coin_data(name, start_date, end_date):\n",
    "    coin = cg.get_coin_market_chart_range_by_id(id = name, vs_currency='usd', from_timestamp = start_date, to_timestamp=end_date)\n",
    "    coin = pd.DataFrame.from_dict(coin)\n",
    "    \n",
    "    # create new column for date\n",
    "    coin['date'] = 1 \n",
    "    # enter start date of data y,m,d\n",
    "    add_date(2018, 1, 1, coin)\n",
    "    # set date as index\n",
    "    coin = coin.set_index(coin['date'])\n",
    "    #drop date column\n",
    "    coin = coin.drop('date', 1)\n",
    "    \n",
    "    return coin"
   ]
  },
  {
   "cell_type": "code",
   "execution_count": 8,
   "id": "a10bff61",
   "metadata": {},
   "outputs": [
    {
     "name": "stderr",
     "output_type": "stream",
     "text": [
      "/var/folders/_m/71fq0nk106s02qxvct5s2sv80000gn/T/ipykernel_12274/3673994451.py:14: FutureWarning: In a future version of pandas all arguments of DataFrame.drop except for the argument 'labels' will be keyword-only\n",
      "  coin = coin.drop('date', 1)\n"
     ]
    }
   ],
   "source": [
    "ethereum = get_coin_data('ethereum', '1514761200', '1650924000')"
   ]
  },
  {
   "cell_type": "code",
   "execution_count": 9,
   "id": "7769be35",
   "metadata": {},
   "outputs": [
    {
     "data": {
      "text/html": [
       "<div>\n",
       "<style scoped>\n",
       "    .dataframe tbody tr th:only-of-type {\n",
       "        vertical-align: middle;\n",
       "    }\n",
       "\n",
       "    .dataframe tbody tr th {\n",
       "        vertical-align: top;\n",
       "    }\n",
       "\n",
       "    .dataframe thead th {\n",
       "        text-align: right;\n",
       "    }\n",
       "</style>\n",
       "<table border=\"1\" class=\"dataframe\">\n",
       "  <thead>\n",
       "    <tr style=\"text-align: right;\">\n",
       "      <th></th>\n",
       "      <th>prices</th>\n",
       "      <th>market_caps</th>\n",
       "      <th>total_volumes</th>\n",
       "    </tr>\n",
       "    <tr>\n",
       "      <th>date</th>\n",
       "      <th></th>\n",
       "      <th></th>\n",
       "      <th></th>\n",
       "    </tr>\n",
       "  </thead>\n",
       "  <tbody>\n",
       "    <tr>\n",
       "      <th>2018-01-01</th>\n",
       "      <td>[1514764800000, 776.080330355968]</td>\n",
       "      <td>[1514764800000, 75056629369.4547]</td>\n",
       "      <td>[1514764800000, 1101627635.65143]</td>\n",
       "    </tr>\n",
       "    <tr>\n",
       "      <th>2018-01-02</th>\n",
       "      <td>[1514851200000, 876.890258814416]</td>\n",
       "      <td>[1514851200000, 84822222588.5437]</td>\n",
       "      <td>[1514851200000, 2720973272.07018]</td>\n",
       "    </tr>\n",
       "    <tr>\n",
       "      <th>2018-01-03</th>\n",
       "      <td>[1514937600000, 963.0557506903511]</td>\n",
       "      <td>[1514937600000, 93178531120.43204]</td>\n",
       "      <td>[1514937600000, 2308657205.9772067]</td>\n",
       "    </tr>\n",
       "    <tr>\n",
       "      <th>2018-01-04</th>\n",
       "      <td>[1515024000000, 978.416104183522]</td>\n",
       "      <td>[1515024000000, 94681149308.52457]</td>\n",
       "      <td>[1515024000000, 2756635496.077742]</td>\n",
       "    </tr>\n",
       "    <tr>\n",
       "      <th>2018-01-05</th>\n",
       "      <td>[1515110400000, 1004.8949722625625]</td>\n",
       "      <td>[1515110400000, 97269228886.25314]</td>\n",
       "      <td>[1515110400000, 2894788528.9368753]</td>\n",
       "    </tr>\n",
       "    <tr>\n",
       "      <th>...</th>\n",
       "      <td>...</td>\n",
       "      <td>...</td>\n",
       "      <td>...</td>\n",
       "    </tr>\n",
       "    <tr>\n",
       "      <th>2022-04-21</th>\n",
       "      <td>[1650499200000, 3079.6764776018495]</td>\n",
       "      <td>[1650499200000, 370910549448.9755]</td>\n",
       "      <td>[1650499200000, 15155965878.384497]</td>\n",
       "    </tr>\n",
       "    <tr>\n",
       "      <th>2022-04-22</th>\n",
       "      <td>[1650585600000, 2987.4888760341605]</td>\n",
       "      <td>[1650585600000, 359917773311.257]</td>\n",
       "      <td>[1650585600000, 20529419340.296413]</td>\n",
       "    </tr>\n",
       "    <tr>\n",
       "      <th>2022-04-23</th>\n",
       "      <td>[1650672000000, 2967.085285238213]</td>\n",
       "      <td>[1650672000000, 357702343019.6129]</td>\n",
       "      <td>[1650672000000, 16155619718.968117]</td>\n",
       "    </tr>\n",
       "    <tr>\n",
       "      <th>2022-04-24</th>\n",
       "      <td>[1650758400000, 2940.6879777714407]</td>\n",
       "      <td>[1650758400000, 354358143094.8383]</td>\n",
       "      <td>[1650758400000, 8633203957.82989]</td>\n",
       "    </tr>\n",
       "    <tr>\n",
       "      <th>2022-04-25</th>\n",
       "      <td>[1650844800000, 2922.901865199808]</td>\n",
       "      <td>[1650844800000, 352895958715.2752]</td>\n",
       "      <td>[1650844800000, 9196851418.265764]</td>\n",
       "    </tr>\n",
       "  </tbody>\n",
       "</table>\n",
       "<p>1576 rows × 3 columns</p>\n",
       "</div>"
      ],
      "text/plain": [
       "                                         prices  \\\n",
       "date                                              \n",
       "2018-01-01    [1514764800000, 776.080330355968]   \n",
       "2018-01-02    [1514851200000, 876.890258814416]   \n",
       "2018-01-03   [1514937600000, 963.0557506903511]   \n",
       "2018-01-04    [1515024000000, 978.416104183522]   \n",
       "2018-01-05  [1515110400000, 1004.8949722625625]   \n",
       "...                                         ...   \n",
       "2022-04-21  [1650499200000, 3079.6764776018495]   \n",
       "2022-04-22  [1650585600000, 2987.4888760341605]   \n",
       "2022-04-23   [1650672000000, 2967.085285238213]   \n",
       "2022-04-24  [1650758400000, 2940.6879777714407]   \n",
       "2022-04-25   [1650844800000, 2922.901865199808]   \n",
       "\n",
       "                                   market_caps  \\\n",
       "date                                             \n",
       "2018-01-01   [1514764800000, 75056629369.4547]   \n",
       "2018-01-02   [1514851200000, 84822222588.5437]   \n",
       "2018-01-03  [1514937600000, 93178531120.43204]   \n",
       "2018-01-04  [1515024000000, 94681149308.52457]   \n",
       "2018-01-05  [1515110400000, 97269228886.25314]   \n",
       "...                                        ...   \n",
       "2022-04-21  [1650499200000, 370910549448.9755]   \n",
       "2022-04-22   [1650585600000, 359917773311.257]   \n",
       "2022-04-23  [1650672000000, 357702343019.6129]   \n",
       "2022-04-24  [1650758400000, 354358143094.8383]   \n",
       "2022-04-25  [1650844800000, 352895958715.2752]   \n",
       "\n",
       "                                  total_volumes  \n",
       "date                                             \n",
       "2018-01-01    [1514764800000, 1101627635.65143]  \n",
       "2018-01-02    [1514851200000, 2720973272.07018]  \n",
       "2018-01-03  [1514937600000, 2308657205.9772067]  \n",
       "2018-01-04   [1515024000000, 2756635496.077742]  \n",
       "2018-01-05  [1515110400000, 2894788528.9368753]  \n",
       "...                                         ...  \n",
       "2022-04-21  [1650499200000, 15155965878.384497]  \n",
       "2022-04-22  [1650585600000, 20529419340.296413]  \n",
       "2022-04-23  [1650672000000, 16155619718.968117]  \n",
       "2022-04-24    [1650758400000, 8633203957.82989]  \n",
       "2022-04-25   [1650844800000, 9196851418.265764]  \n",
       "\n",
       "[1576 rows x 3 columns]"
      ]
     },
     "execution_count": 9,
     "metadata": {},
     "output_type": "execute_result"
    }
   ],
   "source": [
    "ethereum"
   ]
  }
 ],
 "metadata": {
  "kernelspec": {
   "display_name": "Python 3 (ipykernel)",
   "language": "python",
   "name": "python3"
  },
  "language_info": {
   "codemirror_mode": {
    "name": "ipython",
    "version": 3
   },
   "file_extension": ".py",
   "mimetype": "text/x-python",
   "name": "python",
   "nbconvert_exporter": "python",
   "pygments_lexer": "ipython3",
   "version": "3.8.8"
  }
 },
 "nbformat": 4,
 "nbformat_minor": 5
}
