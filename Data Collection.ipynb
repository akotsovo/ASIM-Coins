{
 "cells": [
  {
   "cell_type": "markdown",
   "id": "2bffb08b",
   "metadata": {},
   "source": [
    "<h1 align=\"center\"> Predicting the Next Crypto Coin/Token Star Using Machine Learning </h1>\n",
    "\n",
    "<h2 align=\"center\"> Advanced Seminar Information Management </h2>\n",
    "\n",
    "<h3 align=\"center\"> Supervisor Prof. Dr. Schoder </h3>\n",
    "  \n",
    "<h4 align=\"center\"> Pascal Grewe & Andrej Kotsovolos </h4>\n"
   ]
  },
  {
   "cell_type": "markdown",
   "id": "a426faaa",
   "metadata": {},
   "source": [
    "  "
   ]
  },
  {
   "cell_type": "markdown",
   "id": "d1304bb8",
   "metadata": {},
   "source": [
    "<h1>1. Data Collection <h1>"
   ]
  },
  {
   "cell_type": "code",
   "execution_count": 1,
   "id": "8daa494a",
   "metadata": {},
   "outputs": [],
   "source": [
    "# import free Python Coin Gecko API\n",
    "from pycoingecko import CoinGeckoAPI\n",
    "cg = CoinGeckoAPI()\n",
    "\n",
    "import pandas as pd\n",
    "import numpy as np\n",
    "from datetime import datetime, timedelta\n",
    "import matplotlib.pyplot as plt"
   ]
  },
  {
   "cell_type": "code",
   "execution_count": 2,
   "id": "4bc480e9",
   "metadata": {},
   "outputs": [],
   "source": [
    "def add_date(year, month, day, coin):\n",
    "    size = int(coin.size/4)\n",
    "    date = datetime(year, month, day)\n",
    "    \n",
    "    for i in range(size):\n",
    "        coin.iloc[i,3] = date \n",
    "        date = date + timedelta(1)"
   ]
  },
  {
   "cell_type": "code",
   "execution_count": 3,
   "id": "bfe7ea58",
   "metadata": {},
   "outputs": [],
   "source": [
    "def cut_date(column, dataframe):\n",
    "    length = (int(dataframe.size/3))\n",
    "    df = []\n",
    "\n",
    "    for i in range(length):\n",
    "        c = (dataframe[column].iloc[i])\n",
    "        c.remove(c[0])\n",
    "        df.append(c)\n",
    "    \n",
    "    dataframe[column] = pd.DataFrame.from_dict(df)\n",
    "    return dataframe[column]"
   ]
  },
  {
   "cell_type": "code",
   "execution_count": 4,
   "id": "4db9c0be",
   "metadata": {},
   "outputs": [],
   "source": [
    "# get coin data for specific coin from 01-01-2018 00:00:00 to 26-04-2022 00:00:00\n",
    "# timestamp has to be in UNIX format \n",
    "def get_coin_data(name, start_date, end_date):\n",
    "    coin = cg.get_coin_market_chart_range_by_id(id = name, vs_currency='usd', from_timestamp = start_date, to_timestamp=end_date)\n",
    "    coin = pd.DataFrame.from_dict(coin)\n",
    "    \n",
    "    # cut unix date from dataframe\n",
    "    cut_date('prices', coin)\n",
    "    cut_date('market_caps', coin)\n",
    "    cut_date('total_volumes', coin)\n",
    "    \n",
    "    # create new column for date\n",
    "    coin['date'] = 1 \n",
    "    # enter start date of data y,m,d\n",
    "    add_date(2018, 1, 1, coin)\n",
    "    # set date as index\n",
    "    coin = coin.set_index(coin['date'])\n",
    "    #drop date column\n",
    "    coin = coin.drop('date', 1)\n",
    "    \n",
    "    return coin"
   ]
  },
  {
   "cell_type": "code",
   "execution_count": 5,
   "id": "a10bff61",
   "metadata": {},
   "outputs": [
    {
     "name": "stderr",
     "output_type": "stream",
     "text": [
      "/var/folders/_m/71fq0nk106s02qxvct5s2sv80000gn/T/ipykernel_1581/3257783550.py:18: FutureWarning: In a future version of pandas all arguments of DataFrame.drop except for the argument 'labels' will be keyword-only\n",
      "  coin = coin.drop('date', 1)\n"
     ]
    }
   ],
   "source": [
    "ethereum = get_coin_data('ethereum', '1514761200', '1650924000')"
   ]
  },
  {
   "cell_type": "code",
   "execution_count": 6,
   "id": "7769be35",
   "metadata": {},
   "outputs": [
    {
     "data": {
      "text/html": [
       "<div>\n",
       "<style scoped>\n",
       "    .dataframe tbody tr th:only-of-type {\n",
       "        vertical-align: middle;\n",
       "    }\n",
       "\n",
       "    .dataframe tbody tr th {\n",
       "        vertical-align: top;\n",
       "    }\n",
       "\n",
       "    .dataframe thead th {\n",
       "        text-align: right;\n",
       "    }\n",
       "</style>\n",
       "<table border=\"1\" class=\"dataframe\">\n",
       "  <thead>\n",
       "    <tr style=\"text-align: right;\">\n",
       "      <th></th>\n",
       "      <th>prices</th>\n",
       "      <th>market_caps</th>\n",
       "      <th>total_volumes</th>\n",
       "    </tr>\n",
       "    <tr>\n",
       "      <th>date</th>\n",
       "      <th></th>\n",
       "      <th></th>\n",
       "      <th></th>\n",
       "    </tr>\n",
       "  </thead>\n",
       "  <tbody>\n",
       "    <tr>\n",
       "      <th>2018-01-01</th>\n",
       "      <td>776.080330</td>\n",
       "      <td>7.505663e+10</td>\n",
       "      <td>1.101628e+09</td>\n",
       "    </tr>\n",
       "    <tr>\n",
       "      <th>2018-01-02</th>\n",
       "      <td>876.890259</td>\n",
       "      <td>8.482222e+10</td>\n",
       "      <td>2.720973e+09</td>\n",
       "    </tr>\n",
       "    <tr>\n",
       "      <th>2018-01-03</th>\n",
       "      <td>963.055751</td>\n",
       "      <td>9.317853e+10</td>\n",
       "      <td>2.308657e+09</td>\n",
       "    </tr>\n",
       "    <tr>\n",
       "      <th>2018-01-04</th>\n",
       "      <td>978.416104</td>\n",
       "      <td>9.468115e+10</td>\n",
       "      <td>2.756635e+09</td>\n",
       "    </tr>\n",
       "    <tr>\n",
       "      <th>2018-01-05</th>\n",
       "      <td>1004.894972</td>\n",
       "      <td>9.726923e+10</td>\n",
       "      <td>2.894789e+09</td>\n",
       "    </tr>\n",
       "    <tr>\n",
       "      <th>...</th>\n",
       "      <td>...</td>\n",
       "      <td>...</td>\n",
       "      <td>...</td>\n",
       "    </tr>\n",
       "    <tr>\n",
       "      <th>2022-04-21</th>\n",
       "      <td>3079.676478</td>\n",
       "      <td>3.709105e+11</td>\n",
       "      <td>1.515597e+10</td>\n",
       "    </tr>\n",
       "    <tr>\n",
       "      <th>2022-04-22</th>\n",
       "      <td>2987.488876</td>\n",
       "      <td>3.599178e+11</td>\n",
       "      <td>2.052942e+10</td>\n",
       "    </tr>\n",
       "    <tr>\n",
       "      <th>2022-04-23</th>\n",
       "      <td>2967.085285</td>\n",
       "      <td>3.577023e+11</td>\n",
       "      <td>1.615562e+10</td>\n",
       "    </tr>\n",
       "    <tr>\n",
       "      <th>2022-04-24</th>\n",
       "      <td>2940.687978</td>\n",
       "      <td>3.543581e+11</td>\n",
       "      <td>8.633204e+09</td>\n",
       "    </tr>\n",
       "    <tr>\n",
       "      <th>2022-04-25</th>\n",
       "      <td>2922.901865</td>\n",
       "      <td>3.528960e+11</td>\n",
       "      <td>9.196851e+09</td>\n",
       "    </tr>\n",
       "  </tbody>\n",
       "</table>\n",
       "<p>1576 rows × 3 columns</p>\n",
       "</div>"
      ],
      "text/plain": [
       "                 prices   market_caps  total_volumes\n",
       "date                                                \n",
       "2018-01-01   776.080330  7.505663e+10   1.101628e+09\n",
       "2018-01-02   876.890259  8.482222e+10   2.720973e+09\n",
       "2018-01-03   963.055751  9.317853e+10   2.308657e+09\n",
       "2018-01-04   978.416104  9.468115e+10   2.756635e+09\n",
       "2018-01-05  1004.894972  9.726923e+10   2.894789e+09\n",
       "...                 ...           ...            ...\n",
       "2022-04-21  3079.676478  3.709105e+11   1.515597e+10\n",
       "2022-04-22  2987.488876  3.599178e+11   2.052942e+10\n",
       "2022-04-23  2967.085285  3.577023e+11   1.615562e+10\n",
       "2022-04-24  2940.687978  3.543581e+11   8.633204e+09\n",
       "2022-04-25  2922.901865  3.528960e+11   9.196851e+09\n",
       "\n",
       "[1576 rows x 3 columns]"
      ]
     },
     "execution_count": 6,
     "metadata": {},
     "output_type": "execute_result"
    }
   ],
   "source": [
    "ethereum"
   ]
  },
  {
   "cell_type": "code",
   "execution_count": 7,
   "id": "86a588d7",
   "metadata": {},
   "outputs": [
    {
     "data": {
      "text/plain": [
       "[<matplotlib.lines.Line2D at 0x7fb948121b20>]"
      ]
     },
     "execution_count": 7,
     "metadata": {},
     "output_type": "execute_result"
    },
    {
     "data": {
      "image/png": "[encoded data removed]",
      "text/plain": [
       "<Figure size 432x288 with 1 Axes>"
      ]
     },
     "metadata": {
      "needs_background": "light"
     },
     "output_type": "display_data"
    }
   ],
   "source": [
    "plt.figure()\n",
    "plt.plot(ethereum['prices'])"
   ]
  },
  {
   "cell_type": "code",
   "execution_count": 16,
   "id": "33feaf44",
   "metadata": {},
   "outputs": [
    {
     "data": {
      "text/plain": [
       "[<matplotlib.lines.Line2D at 0x7fb9580c2ca0>]"
      ]
     },
     "execution_count": 16,
     "metadata": {},
     "output_type": "execute_result"
    },
    {
     "data": {
      "image/png": "[encoded data removed]",
      "text/plain": [
       "<Figure size 432x288 with 1 Axes>"
      ]
     },
     "metadata": {
      "needs_background": "light"
     },
     "output_type": "display_data"
    }
   ],
   "source": [
    "plt.figure()\n",
    "plt.plot(ethereum['total_volumes'])"
   ]
  },
  {
   "cell_type": "code",
   "execution_count": 9,
   "id": "26b85899",
   "metadata": {},
   "outputs": [
    {
     "name": "stderr",
     "output_type": "stream",
     "text": [
      "/var/folders/_m/71fq0nk106s02qxvct5s2sv80000gn/T/ipykernel_1581/3257783550.py:18: FutureWarning: In a future version of pandas all arguments of DataFrame.drop except for the argument 'labels' will be keyword-only\n",
      "  coin = coin.drop('date', 1)\n"
     ]
    }
   ],
   "source": [
    "bitcoin = get_coin_data('bitcoin', '1514761200', '1650924000')"
   ]
  },
  {
   "cell_type": "code",
   "execution_count": 10,
   "id": "880150f3",
   "metadata": {},
   "outputs": [
    {
     "data": {
      "text/html": [
       "<div>\n",
       "<style scoped>\n",
       "    .dataframe tbody tr th:only-of-type {\n",
       "        vertical-align: middle;\n",
       "    }\n",
       "\n",
       "    .dataframe tbody tr th {\n",
       "        vertical-align: top;\n",
       "    }\n",
       "\n",
       "    .dataframe thead th {\n",
       "        text-align: right;\n",
       "    }\n",
       "</style>\n",
       "<table border=\"1\" class=\"dataframe\">\n",
       "  <thead>\n",
       "    <tr style=\"text-align: right;\">\n",
       "      <th></th>\n",
       "      <th>prices</th>\n",
       "      <th>market_caps</th>\n",
       "      <th>total_volumes</th>\n",
       "    </tr>\n",
       "    <tr>\n",
       "      <th>date</th>\n",
       "      <th></th>\n",
       "      <th></th>\n",
       "      <th></th>\n",
       "    </tr>\n",
       "  </thead>\n",
       "  <tbody>\n",
       "    <tr>\n",
       "      <th>2018-01-01</th>\n",
       "      <td>14093.606831</td>\n",
       "      <td>2.364403e+11</td>\n",
       "      <td>2.345479e+09</td>\n",
       "    </tr>\n",
       "    <tr>\n",
       "      <th>2018-01-02</th>\n",
       "      <td>15321.932852</td>\n",
       "      <td>2.570796e+11</td>\n",
       "      <td>4.130218e+09</td>\n",
       "    </tr>\n",
       "    <tr>\n",
       "      <th>2018-01-03</th>\n",
       "      <td>15583.885538</td>\n",
       "      <td>2.615052e+11</td>\n",
       "      <td>3.310356e+09</td>\n",
       "    </tr>\n",
       "    <tr>\n",
       "      <th>2018-01-04</th>\n",
       "      <td>15976.365194</td>\n",
       "      <td>2.681247e+11</td>\n",
       "      <td>4.217387e+09</td>\n",
       "    </tr>\n",
       "    <tr>\n",
       "      <th>2018-01-05</th>\n",
       "      <td>18336.922980</td>\n",
       "      <td>3.077740e+11</td>\n",
       "      <td>6.275688e+09</td>\n",
       "    </tr>\n",
       "    <tr>\n",
       "      <th>...</th>\n",
       "      <td>...</td>\n",
       "      <td>...</td>\n",
       "      <td>...</td>\n",
       "    </tr>\n",
       "    <tr>\n",
       "      <th>2022-04-21</th>\n",
       "      <td>41397.220477</td>\n",
       "      <td>7.874374e+11</td>\n",
       "      <td>2.493767e+10</td>\n",
       "    </tr>\n",
       "    <tr>\n",
       "      <th>2022-04-22</th>\n",
       "      <td>40528.541487</td>\n",
       "      <td>7.707872e+11</td>\n",
       "      <td>3.213122e+10</td>\n",
       "    </tr>\n",
       "    <tr>\n",
       "      <th>2022-04-23</th>\n",
       "      <td>39756.848993</td>\n",
       "      <td>7.561445e+11</td>\n",
       "      <td>4.602206e+10</td>\n",
       "    </tr>\n",
       "    <tr>\n",
       "      <th>2022-04-24</th>\n",
       "      <td>39561.780191</td>\n",
       "      <td>7.524142e+11</td>\n",
       "      <td>1.501080e+10</td>\n",
       "    </tr>\n",
       "    <tr>\n",
       "      <th>2022-04-25</th>\n",
       "      <td>39469.049862</td>\n",
       "      <td>7.524463e+11</td>\n",
       "      <td>1.677868e+10</td>\n",
       "    </tr>\n",
       "  </tbody>\n",
       "</table>\n",
       "<p>1576 rows × 3 columns</p>\n",
       "</div>"
      ],
      "text/plain": [
       "                  prices   market_caps  total_volumes\n",
       "date                                                 \n",
       "2018-01-01  14093.606831  2.364403e+11   2.345479e+09\n",
       "2018-01-02  15321.932852  2.570796e+11   4.130218e+09\n",
       "2018-01-03  15583.885538  2.615052e+11   3.310356e+09\n",
       "2018-01-04  15976.365194  2.681247e+11   4.217387e+09\n",
       "2018-01-05  18336.922980  3.077740e+11   6.275688e+09\n",
       "...                  ...           ...            ...\n",
       "2022-04-21  41397.220477  7.874374e+11   2.493767e+10\n",
       "2022-04-22  40528.541487  7.707872e+11   3.213122e+10\n",
       "2022-04-23  39756.848993  7.561445e+11   4.602206e+10\n",
       "2022-04-24  39561.780191  7.524142e+11   1.501080e+10\n",
       "2022-04-25  39469.049862  7.524463e+11   1.677868e+10\n",
       "\n",
       "[1576 rows x 3 columns]"
      ]
     },
     "execution_count": 10,
     "metadata": {},
     "output_type": "execute_result"
    }
   ],
   "source": [
    "bitcoin"
   ]
  },
  {
   "cell_type": "code",
   "execution_count": 11,
   "id": "64ceaaaf",
   "metadata": {},
   "outputs": [
    {
     "data": {
      "text/plain": [
       "[<matplotlib.lines.Line2D at 0x7fb99aa9b580>]"
      ]
     },
     "execution_count": 11,
     "metadata": {},
     "output_type": "execute_result"
    },
    {
     "data": {
      "image/png": "[encoded data removed]",
      "text/plain": [
       "<Figure size 432x288 with 1 Axes>"
      ]
     },
     "metadata": {
      "needs_background": "light"
     },
     "output_type": "display_data"
    }
   ],
   "source": [
    "plt.figure()\n",
    "plt.plot(bitcoin['prices'])"
   ]
  },
  {
   "cell_type": "code",
   "execution_count": 12,
   "id": "b1a3b58a",
   "metadata": {},
   "outputs": [
    {
     "name": "stderr",
     "output_type": "stream",
     "text": [
      "/var/folders/_m/71fq0nk106s02qxvct5s2sv80000gn/T/ipykernel_1581/3257783550.py:18: FutureWarning: In a future version of pandas all arguments of DataFrame.drop except for the argument 'labels' will be keyword-only\n",
      "  coin = coin.drop('date', 1)\n"
     ]
    }
   ],
   "source": [
    "stellar = get_coin_data('stellar', '1514761200', '1650924000')"
   ]
  },
  {
   "cell_type": "code",
   "execution_count": 13,
   "id": "708bea7b",
   "metadata": {},
   "outputs": [
    {
     "data": {
      "text/html": [
       "<div>\n",
       "<style scoped>\n",
       "    .dataframe tbody tr th:only-of-type {\n",
       "        vertical-align: middle;\n",
       "    }\n",
       "\n",
       "    .dataframe tbody tr th {\n",
       "        vertical-align: top;\n",
       "    }\n",
       "\n",
       "    .dataframe thead th {\n",
       "        text-align: right;\n",
       "    }\n",
       "</style>\n",
       "<table border=\"1\" class=\"dataframe\">\n",
       "  <thead>\n",
       "    <tr style=\"text-align: right;\">\n",
       "      <th></th>\n",
       "      <th>prices</th>\n",
       "      <th>market_caps</th>\n",
       "      <th>total_volumes</th>\n",
       "    </tr>\n",
       "    <tr>\n",
       "      <th>date</th>\n",
       "      <th></th>\n",
       "      <th></th>\n",
       "      <th></th>\n",
       "    </tr>\n",
       "  </thead>\n",
       "  <tbody>\n",
       "    <tr>\n",
       "      <th>2018-01-01</th>\n",
       "      <td>0.496803</td>\n",
       "      <td>8.872391e+09</td>\n",
       "      <td>6.755370e+08</td>\n",
       "    </tr>\n",
       "    <tr>\n",
       "      <th>2018-01-02</th>\n",
       "      <td>0.553798</td>\n",
       "      <td>9.900319e+09</td>\n",
       "      <td>6.743400e+08</td>\n",
       "    </tr>\n",
       "    <tr>\n",
       "      <th>2018-01-03</th>\n",
       "      <td>0.875563</td>\n",
       "      <td>1.565263e+10</td>\n",
       "      <td>1.498850e+09</td>\n",
       "    </tr>\n",
       "    <tr>\n",
       "      <th>2018-01-04</th>\n",
       "      <td>0.755119</td>\n",
       "      <td>1.349944e+10</td>\n",
       "      <td>8.084145e+08</td>\n",
       "    </tr>\n",
       "    <tr>\n",
       "      <th>2018-01-05</th>\n",
       "      <td>0.703217</td>\n",
       "      <td>1.257197e+10</td>\n",
       "      <td>7.030865e+08</td>\n",
       "    </tr>\n",
       "    <tr>\n",
       "      <th>...</th>\n",
       "      <td>...</td>\n",
       "      <td>...</td>\n",
       "      <td>...</td>\n",
       "    </tr>\n",
       "    <tr>\n",
       "      <th>2022-04-21</th>\n",
       "      <td>0.200536</td>\n",
       "      <td>4.972070e+09</td>\n",
       "      <td>3.020520e+08</td>\n",
       "    </tr>\n",
       "    <tr>\n",
       "      <th>2022-04-22</th>\n",
       "      <td>0.196009</td>\n",
       "      <td>4.857934e+09</td>\n",
       "      <td>3.257174e+08</td>\n",
       "    </tr>\n",
       "    <tr>\n",
       "      <th>2022-04-23</th>\n",
       "      <td>0.195704</td>\n",
       "      <td>4.851829e+09</td>\n",
       "      <td>2.686975e+08</td>\n",
       "    </tr>\n",
       "    <tr>\n",
       "      <th>2022-04-24</th>\n",
       "      <td>0.192180</td>\n",
       "      <td>4.764474e+09</td>\n",
       "      <td>1.737259e+08</td>\n",
       "    </tr>\n",
       "    <tr>\n",
       "      <th>2022-04-25</th>\n",
       "      <td>0.190030</td>\n",
       "      <td>4.725787e+09</td>\n",
       "      <td>1.790698e+08</td>\n",
       "    </tr>\n",
       "  </tbody>\n",
       "</table>\n",
       "<p>1576 rows × 3 columns</p>\n",
       "</div>"
      ],
      "text/plain": [
       "              prices   market_caps  total_volumes\n",
       "date                                             \n",
       "2018-01-01  0.496803  8.872391e+09   6.755370e+08\n",
       "2018-01-02  0.553798  9.900319e+09   6.743400e+08\n",
       "2018-01-03  0.875563  1.565263e+10   1.498850e+09\n",
       "2018-01-04  0.755119  1.349944e+10   8.084145e+08\n",
       "2018-01-05  0.703217  1.257197e+10   7.030865e+08\n",
       "...              ...           ...            ...\n",
       "2022-04-21  0.200536  4.972070e+09   3.020520e+08\n",
       "2022-04-22  0.196009  4.857934e+09   3.257174e+08\n",
       "2022-04-23  0.195704  4.851829e+09   2.686975e+08\n",
       "2022-04-24  0.192180  4.764474e+09   1.737259e+08\n",
       "2022-04-25  0.190030  4.725787e+09   1.790698e+08\n",
       "\n",
       "[1576 rows x 3 columns]"
      ]
     },
     "execution_count": 13,
     "metadata": {},
     "output_type": "execute_result"
    }
   ],
   "source": [
    "stellar"
   ]
  },
  {
   "cell_type": "code",
   "execution_count": 15,
   "id": "d7b9485e",
   "metadata": {},
   "outputs": [
    {
     "data": {
      "text/plain": [
       "[<matplotlib.lines.Line2D at 0x7fb9580d0400>]"
      ]
     },
     "execution_count": 15,
     "metadata": {},
     "output_type": "execute_result"
    },
    {
     "data": {
      "image/png": "[encoded data removed]",
      "text/plain": [
       "<Figure size 432x288 with 1 Axes>"
      ]
     },
     "metadata": {
      "needs_background": "light"
     },
     "output_type": "display_data"
    }
   ],
   "source": [
    "plt.figure()\n",
    "plt.plot(stellar['prices'])"
   ]
  },
  {
   "cell_type": "code",
   "execution_count": null,
   "id": "a437b19e",
   "metadata": {},
   "outputs": [],
   "source": []
  }
 ],
 "metadata": {
  "kernelspec": {
   "display_name": "Python 3 (ipykernel)",
   "language": "python",
   "name": "python3"
  },
  "language_info": {
   "codemirror_mode": {
    "name": "ipython",
    "version": 3
   },
   "file_extension": ".py",
   "mimetype": "text/x-python",
   "name": "python",
   "nbconvert_exporter": "python",
   "pygments_lexer": "ipython3",
   "version": "3.8.8"
  }
 },
 "nbformat": 4,
 "nbformat_minor": 5
}
